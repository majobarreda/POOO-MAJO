{
  "nbformat": 4,
  "nbformat_minor": 0,
  "metadata": {
    "colab": {
      "provenance": []
    },
    "kernelspec": {
      "name": "python3",
      "display_name": "Python 3"
    },
    "language_info": {
      "name": "python"
    }
  },
  "cells": [
    {
      "cell_type": "code",
      "execution_count": 1,
      "metadata": {
        "id": "PLnEi5t1Z4U_"
      },
      "outputs": [],
      "source": [
        "class Mascota(): #creamos una clase madre\n",
        "\n",
        "  def __init__(self):\n",
        "    print(\"Creamos una clase madre\")\n",
        "\n",
        "  def adivina(self):\n",
        "      print(\"hola soy un perro\")\n",
        "\n",
        "  def hablar(self):\n",
        "        print(\"ladro\")"
      ]
    },
    {
      "cell_type": "code",
      "source": [
        "mascota = Mascota()"
      ],
      "metadata": {
        "colab": {
          "base_uri": "https://localhost:8080/"
        },
        "id": "ogtu7cpjczfv",
        "outputId": "635b3741-f7e4-4c1c-eb03-07615583cfcd"
      },
      "execution_count": 2,
      "outputs": [
        {
          "output_type": "stream",
          "name": "stdout",
          "text": [
            "Creamos una clase madre\n"
          ]
        }
      ]
    },
    {
      "cell_type": "code",
      "source": [
        "mascota.adivina()"
      ],
      "metadata": {
        "colab": {
          "base_uri": "https://localhost:8080/"
        },
        "id": "9WET61_WeMBV",
        "outputId": "e5cc9b68-d4d9-4c57-d562-1d6dd2f833dc"
      },
      "execution_count": 3,
      "outputs": [
        {
          "output_type": "stream",
          "name": "stdout",
          "text": [
            "hola soy un perro\n"
          ]
        }
      ]
    },
    {
      "cell_type": "code",
      "source": [
        "mascota.hablar()"
      ],
      "metadata": {
        "colab": {
          "base_uri": "https://localhost:8080/"
        },
        "id": "cum-K-HLeam4",
        "outputId": "a3a0843e-67c9-4b39-ddd4-15b54e27975b"
      },
      "execution_count": 4,
      "outputs": [
        {
          "output_type": "stream",
          "name": "stdout",
          "text": [
            "ladro\n"
          ]
        }
      ]
    },
    {
      "cell_type": "markdown",
      "source": [
        "CREAR UNA HERENCIA\n"
      ],
      "metadata": {
        "id": "xpNSaANGghkQ"
      }
    },
    {
      "cell_type": "code",
      "source": [
        "class Perro(Mascota):\n",
        "\n",
        "  def __init__(self):\n",
        "    Mascota.__init__(self)\n",
        "    print(\"creamos una clase heredada\")\n",
        "\n",
        "  def nombre(self):\n",
        "    print(\"Luna\")\n",
        "\n",
        "  def adivina(self):\n",
        "    print(\"golden\")\n",
        "\n",
        "  def idioma(self):\n",
        "    print(\"WUAF\")"
      ],
      "metadata": {
        "id": "OoKzrYbRgjUp"
      },
      "execution_count": 18,
      "outputs": []
    },
    {
      "cell_type": "code",
      "source": [
        "perro=Perro() #llamamos a la clase heredada"
      ],
      "metadata": {
        "colab": {
          "base_uri": "https://localhost:8080/"
        },
        "id": "97_BhRciidRS",
        "outputId": "c8f8a038-7aab-4e3f-9b9a-3c4caf88d5ed"
      },
      "execution_count": 19,
      "outputs": [
        {
          "output_type": "stream",
          "name": "stdout",
          "text": [
            "Creamos una clase madre\n",
            "creamos una clase heredada\n"
          ]
        }
      ]
    },
    {
      "cell_type": "code",
      "source": [
        "mascota.adivina()"
      ],
      "metadata": {
        "colab": {
          "base_uri": "https://localhost:8080/"
        },
        "id": "V6tA5cJ5jwE4",
        "outputId": "bf3bd532-7365-43d2-9593-2e485cd5dcaa"
      },
      "execution_count": 15,
      "outputs": [
        {
          "output_type": "stream",
          "name": "stdout",
          "text": [
            "hola soy un perro\n"
          ]
        }
      ]
    },
    {
      "cell_type": "code",
      "source": [
        "perro.adivina()"
      ],
      "metadata": {
        "colab": {
          "base_uri": "https://localhost:8080/"
        },
        "id": "splzQlnGkwiI",
        "outputId": "039d5964-1f83-4d3f-f2c7-5f462ab15f7e"
      },
      "execution_count": 20,
      "outputs": [
        {
          "output_type": "stream",
          "name": "stdout",
          "text": [
            "golden\n"
          ]
        }
      ]
    },
    {
      "cell_type": "code",
      "source": [
        "perro.idioma()"
      ],
      "metadata": {
        "colab": {
          "base_uri": "https://localhost:8080/"
        },
        "id": "5Q0jGNBvk31x",
        "outputId": "f876a032-5a8c-46ea-8c78-3bb2218e7623"
      },
      "execution_count": 13,
      "outputs": [
        {
          "output_type": "stream",
          "name": "stdout",
          "text": [
            "WUAF\n"
          ]
        }
      ]
    },
    {
      "cell_type": "code",
      "source": [
        "class Majo():\n",
        "\n",
        "  def __init__(self):\n",
        "    print(\"Creamos una clase madre\")\n",
        "\n",
        "  def adivina(self):\n",
        "      print(\"hola soy majo\")\n",
        "\n",
        "  def hablar(self):\n",
        "        print(\"hablo\")"
      ],
      "metadata": {
        "id": "DuGemqN_mX2d"
      },
      "execution_count": 21,
      "outputs": []
    },
    {
      "cell_type": "code",
      "source": [
        "majo = Majo()"
      ],
      "metadata": {
        "colab": {
          "base_uri": "https://localhost:8080/"
        },
        "id": "3f5hjqCvmfSE",
        "outputId": "00582dea-c2ca-47b7-c3a9-1e104c66f3db"
      },
      "execution_count": 22,
      "outputs": [
        {
          "output_type": "stream",
          "name": "stdout",
          "text": [
            "Creamos una clase madre\n"
          ]
        }
      ]
    },
    {
      "cell_type": "code",
      "source": [
        "majo.adivina()"
      ],
      "metadata": {
        "colab": {
          "base_uri": "https://localhost:8080/"
        },
        "id": "cXiib_JBmmnv",
        "outputId": "a3b7863e-a789-4107-ca8c-55aea4812390"
      },
      "execution_count": 23,
      "outputs": [
        {
          "output_type": "stream",
          "name": "stdout",
          "text": [
            "hola soy majo\n"
          ]
        }
      ]
    },
    {
      "cell_type": "code",
      "source": [
        "majo.hablar()"
      ],
      "metadata": {
        "colab": {
          "base_uri": "https://localhost:8080/"
        },
        "id": "fh0j1-0ImsCz",
        "outputId": "14db6f1f-84f3-4f29-922b-9a5f115ff772"
      },
      "execution_count": 24,
      "outputs": [
        {
          "output_type": "stream",
          "name": "stdout",
          "text": [
            "hablo\n"
          ]
        }
      ]
    },
    {
      "cell_type": "code",
      "source": [
        "class Perro(Majo):\n",
        "\n",
        "  def __init__(self):\n",
        "    Mascota.__init__(self)\n",
        "    print(\"creamos una clase heredada\")\n",
        "\n",
        "  def nombre(self):\n",
        "    print(\"panzer\")\n",
        "\n",
        "  def adivina(self):\n",
        "    print(\"Alaskan Malamute\")\n",
        "\n",
        "  def idioma(self):\n",
        "    print(\"AUUU\")"
      ],
      "metadata": {
        "id": "4hIdKMkPmxsp"
      },
      "execution_count": 25,
      "outputs": []
    },
    {
      "cell_type": "code",
      "source": [
        "perro=Perro() #llamamos a la clase heredada"
      ],
      "metadata": {
        "colab": {
          "base_uri": "https://localhost:8080/"
        },
        "id": "sGiHbH1Dm8DL",
        "outputId": "d79998c9-6376-4d03-b1fe-8438e1a6fbf7"
      },
      "execution_count": 26,
      "outputs": [
        {
          "output_type": "stream",
          "name": "stdout",
          "text": [
            "Creamos una clase madre\n",
            "creamos una clase heredada\n"
          ]
        }
      ]
    },
    {
      "cell_type": "code",
      "source": [
        "mascota.adivina()"
      ],
      "metadata": {
        "colab": {
          "base_uri": "https://localhost:8080/"
        },
        "id": "TJAKgMW5nCVU",
        "outputId": "227cd922-a5b6-43ab-e6d5-75a98dd4ab16"
      },
      "execution_count": 27,
      "outputs": [
        {
          "output_type": "stream",
          "name": "stdout",
          "text": [
            "hola soy un perro\n"
          ]
        }
      ]
    },
    {
      "cell_type": "code",
      "source": [
        "perro.adivina()"
      ],
      "metadata": {
        "colab": {
          "base_uri": "https://localhost:8080/"
        },
        "id": "oM20IjxpnMnm",
        "outputId": "6f9bacb7-4693-4586-9e48-92639c2b2a7d"
      },
      "execution_count": 28,
      "outputs": [
        {
          "output_type": "stream",
          "name": "stdout",
          "text": [
            "Alaskan Malamute\n"
          ]
        }
      ]
    },
    {
      "cell_type": "code",
      "source": [
        "perro.idioma()"
      ],
      "metadata": {
        "colab": {
          "base_uri": "https://localhost:8080/"
        },
        "id": "4ffg6O4snPaN",
        "outputId": "b12c3a17-80a0-477e-8c62-a4f8d4aa24d5"
      },
      "execution_count": 29,
      "outputs": [
        {
          "output_type": "stream",
          "name": "stdout",
          "text": [
            "AUUU\n"
          ]
        }
      ]
    }
  ]
}