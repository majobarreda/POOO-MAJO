{
  "nbformat": 4,
  "nbformat_minor": 0,
  "metadata": {
    "colab": {
      "provenance": []
    },
    "kernelspec": {
      "name": "python3",
      "display_name": "Python 3"
    },
    "language_info": {
      "name": "python"
    }
  },
  "cells": [
    {
      "cell_type": "code",
      "execution_count": 3,
      "metadata": {
        "id": "Vbq_SymAWE5M"
      },
      "outputs": [],
      "source": [
        "def Area(b,l):\n",
        "\n",
        "  a=(b*l)/2\n",
        "  return a"
      ]
    },
    {
      "cell_type": "code",
      "source": [
        "Area(2,8)"
      ],
      "metadata": {
        "colab": {
          "base_uri": "https://localhost:8080/"
        },
        "id": "v9KCB_0EZJyr",
        "outputId": "e1e6a170-4945-434b-d0c1-af96b45c36df"
      },
      "execution_count": 4,
      "outputs": [
        {
          "output_type": "execute_result",
          "data": {
            "text/plain": [
              "8.0"
            ]
          },
          "metadata": {},
          "execution_count": 4
        }
      ]
    },
    {
      "cell_type": "code",
      "source": [
        "def Perimetro(b,l):\n",
        "  p=(b+l+l)\n",
        "  return p"
      ],
      "metadata": {
        "id": "6TawyQTEZQtq"
      },
      "execution_count": 10,
      "outputs": []
    },
    {
      "cell_type": "code",
      "source": [
        "Perimetro (5,7)"
      ],
      "metadata": {
        "colab": {
          "base_uri": "https://localhost:8080/"
        },
        "id": "StS3eaaNaauu",
        "outputId": "f1ed35da-7fc5-4cbf-cf98-7c78878d5e34"
      },
      "execution_count": 11,
      "outputs": [
        {
          "output_type": "execute_result",
          "data": {
            "text/plain": [
              "19"
            ]
          },
          "metadata": {},
          "execution_count": 11
        }
      ]
    },
    {
      "cell_type": "code",
      "source": [
        "def numpar(x):\n",
        "  pa=(x)%2\n",
        "  return pa"
      ],
      "metadata": {
        "id": "5kcEhD3Bb0Ft"
      },
      "execution_count": 13,
      "outputs": []
    },
    {
      "cell_type": "code",
      "source": [
        "numpar(5)\n"
      ],
      "metadata": {
        "colab": {
          "base_uri": "https://localhost:8080/"
        },
        "id": "vgCfpmhEchxw",
        "outputId": "416fdf3f-c2e0-4d7d-f3d5-7a697c16e8e7"
      },
      "execution_count": 14,
      "outputs": [
        {
          "output_type": "execute_result",
          "data": {
            "text/plain": [
              "1"
            ]
          },
          "metadata": {},
          "execution_count": 14
        }
      ]
    },
    {
      "cell_type": "code",
      "source": [
        "x=35\n",
        "if numpar(x)==0:\n",
        " print (\"par\")\n",
        "else:\n",
        " print (\"impar\")"
      ],
      "metadata": {
        "colab": {
          "base_uri": "https://localhost:8080/"
        },
        "id": "k-qRSTVzc341",
        "outputId": "154ea687-3e1d-4155-a672-b35bd7654f90"
      },
      "execution_count": 19,
      "outputs": [
        {
          "output_type": "stream",
          "name": "stdout",
          "text": [
            "impar\n"
          ]
        }
      ]
    },
    {
      "cell_type": "code",
      "source": [],
      "metadata": {
        "id": "wegQHTHmg9c_"
      },
      "execution_count": null,
      "outputs": []
    },
    {
      "cell_type": "code",
      "source": [
        "n=int(input(\"Ingresa:\"))\n",
        "\n",
        "L=[i for i in range (1,n)if n%i==0]\n",
        "L"
      ],
      "metadata": {
        "colab": {
          "base_uri": "https://localhost:8080/"
        },
        "id": "04Y8OUCIhnP1",
        "outputId": "9a6811a6-cb95-4803-d18e-23e3defefd6c"
      },
      "execution_count": 20,
      "outputs": [
        {
          "name": "stdout",
          "output_type": "stream",
          "text": [
            "Ingresa:6\n"
          ]
        },
        {
          "output_type": "execute_result",
          "data": {
            "text/plain": [
              "[1, 2, 3]"
            ]
          },
          "metadata": {},
          "execution_count": 20
        }
      ]
    },
    {
      "cell_type": "code",
      "source": [
        "if(sum(L)==n):\n",
        "  print(\"Es perfecto\")"
      ],
      "metadata": {
        "colab": {
          "base_uri": "https://localhost:8080/"
        },
        "id": "YgOU30o0mqSE",
        "outputId": "ba4f7d14-48e6-4d43-b59d-a0639ed6d989"
      },
      "execution_count": 21,
      "outputs": [
        {
          "output_type": "stream",
          "name": "stdout",
          "text": [
            "Es perfecto\n"
          ]
        }
      ]
    }
  ]
}