{
  "nbformat": 4,
  "nbformat_minor": 0,
  "metadata": {
    "colab": {
      "provenance": []
    },
    "kernelspec": {
      "name": "python3",
      "display_name": "Python 3"
    },
    "language_info": {
      "name": "python"
    }
  },
  "cells": [
    {
      "cell_type": "markdown",
      "source": [
        "areas, perimetros de triangulos equilateros"
      ],
      "metadata": {
        "id": "H6oG4m4dnIzj"
      }
    },
    {
      "cell_type": "code",
      "source": [],
      "metadata": {
        "id": "DsxHMdLC0FeY"
      },
      "execution_count": null,
      "outputs": []
    },
    {
      "cell_type": "code",
      "execution_count": 116,
      "metadata": {
        "colab": {
          "base_uri": "https://localhost:8080/"
        },
        "id": "GpO-E3qzmZzs",
        "outputId": "c4cb5ee5-6f6b-468e-cf3c-18aaf5afe62c"
      },
      "outputs": [
        {
          "output_type": "stream",
          "name": "stdout",
          "text": [
            "Creamos una clase\n"
          ]
        }
      ],
      "source": [
        "import numpy as np\n",
        "\n",
        "class Formulas:\n",
        "  def __init__(self, elementos):\n",
        "    self.elementos = elementos\n",
        "\n",
        "class TriangulosEquilateros(Formulas):\n",
        "    def __init__(self, lado):\n",
        "        print(\"Creamos una clase\")\n",
        "\n",
        "    def calcular_perimetro(self):\n",
        "        print(\"Perímetro\")\n",
        "        perimetro = lado + lado + lado\n",
        "        return perimetro\n",
        "\n",
        "    def calcular_area(self):\n",
        "        print(\"Área\")\n",
        "        area = (lado * lado * np.sqrt(3)) / 4\n",
        "        return area\n",
        "triangulo = TriangulosEquilateros(5)\n"
      ]
    },
    {
      "cell_type": "code",
      "source": [],
      "metadata": {
        "id": "4fvANwyuqtkF"
      },
      "execution_count": 116,
      "outputs": []
    },
    {
      "cell_type": "code",
      "source": [],
      "metadata": {
        "id": "i_qRGBLFtxTk"
      },
      "execution_count": 118,
      "outputs": []
    },
    {
      "cell_type": "code",
      "source": [],
      "metadata": {
        "id": "XV_qZwvOuBjg"
      },
      "execution_count": 118,
      "outputs": []
    },
    {
      "cell_type": "markdown",
      "source": [
        "reciba una lista de 16 elementos, la transforme en una matriz de tamaño 4x4"
      ],
      "metadata": {
        "id": "iZC2aWdYnRq4"
      }
    },
    {
      "cell_type": "code",
      "source": [
        "import numpy as np\n",
        "\n",
        "class matriz(Formulas):\n",
        "\n",
        "  lista= [1,2,3,4,5,6,7,8,9,10,11,12,13,14,15,16]\n",
        "  print(\"la lista es\")\n",
        "  print(lista)\n",
        "\n",
        "matriz=np.reshape(lista,(4,4))\n",
        "print(\"la matriz es\")\n",
        "print(matriz)"
      ],
      "metadata": {
        "colab": {
          "base_uri": "https://localhost:8080/"
        },
        "id": "z34TOVWXuVvx",
        "outputId": "d32a9a5a-974c-486a-fe75-aabedd52416f"
      },
      "execution_count": 110,
      "outputs": [
        {
          "output_type": "stream",
          "name": "stdout",
          "text": [
            "la lista es\n",
            "[1, 2, 3, 4, 5, 6, 7, 8, 9, 10, 11, 12, 13, 14, 15, 16]\n",
            "la matriz es\n",
            "[[ 1  2  3  4]\n",
            " [ 5  6  7  8]\n",
            " [ 9 10 11 12]\n",
            " [13 14 15 16]]\n"
          ]
        }
      ]
    },
    {
      "cell_type": "markdown",
      "source": [
        "funcion que calcule el determinante (np.linalg.det(A))"
      ],
      "metadata": {
        "id": "IWBPvrjrnfhY"
      }
    },
    {
      "cell_type": "code",
      "source": [
        "\n",
        "import numpy as np\n",
        "class determinante(Formulas):\n",
        "  def calcula_determinante(matriz):\n",
        "    determinante=np.linalg.det(matriz)\n",
        "  print(\"el determinante es\")\n",
        "  print(determinante)"
      ],
      "metadata": {
        "colab": {
          "base_uri": "https://localhost:8080/"
        },
        "id": "PDAdshItvAAn",
        "outputId": "104ec99f-8037-40db-d40c-07a15bb29399"
      },
      "execution_count": 111,
      "outputs": [
        {
          "output_type": "stream",
          "name": "stdout",
          "text": [
            "el determinante es\n",
            "None\n"
          ]
        }
      ]
    },
    {
      "cell_type": "code",
      "source": [
        "determinante=calcula_determinante(matriz)\n"
      ],
      "metadata": {
        "colab": {
          "base_uri": "https://localhost:8080/"
        },
        "id": "L6IAauc4voYI",
        "outputId": "91cd12db-cfb7-4167-8358-6e3539de931b"
      },
      "execution_count": 99,
      "outputs": [
        {
          "output_type": "stream",
          "name": "stdout",
          "text": [
            "el determinante es\n",
            "0.0\n"
          ]
        }
      ]
    }
  ]
}